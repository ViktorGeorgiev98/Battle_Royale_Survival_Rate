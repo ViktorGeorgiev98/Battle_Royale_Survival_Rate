{
 "cells": [
  {
   "cell_type": "markdown",
   "id": "ad388fb9",
   "metadata": {},
   "source": [
    "# Battle Royale Survival Rate\n",
    "## Math concepts for developers final project\n",
    "### Viktor Georgiev\n",
    "\n"
   ]
  },
  {
   "cell_type": "markdown",
   "id": "55bef6dd",
   "metadata": {},
   "source": []
  }
 ],
 "metadata": {
  "language_info": {
   "name": "python"
  }
 },
 "nbformat": 4,
 "nbformat_minor": 5
}
