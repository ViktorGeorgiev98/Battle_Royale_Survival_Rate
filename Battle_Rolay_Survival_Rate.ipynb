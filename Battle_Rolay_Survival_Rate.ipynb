{
 "cells": [
  {
   "cell_type": "markdown",
   "id": "ad388fb9",
   "metadata": {},
   "source": [
    "# Battle Royale Survival Rate\n",
    "## Math concepts for developers final project\n",
    "**Author: Viktor Georgiev**  \n",
    "**Date: May 2025**\n",
    "\n",
    "### Introduction\n",
    "Let us face it — everybody has at least once in their life played a game like PUBG, Fortnite, Call of Duty Warzone / Mobile, or something similar. \n",
    "In recent times, TV series like *Squid Game* and *Alice in Borderland* have further popularized the idea, which possibly started with the *Hunger Games* book series.\n",
    "\n",
    "This project simulates a simplified Battle Royale scenario and uses **probability theory**, **stochastic simulation**, and **statistical analysis** to estimate each player’s survival chances. \n",
    "The results help answer questions like:\n",
    "\n",
    "- How does initial skill influence survival?\n",
    "- How many rounds are typically needed until only one survives?\n",
    "\n",
    "---\n",
    "\n",
    "### Project goals\n",
    "- Model a **simplified Battle Royale** with `N` players.\n",
    "- Implement **random encounters** between players, with probabilistic outcomes based on skill.\n",
    "- Use **Monte Carlo simulation** to estimate survival rates.\n",
    "- Apply **probability**, **combinatorics**, and **basic Markov modeling** to understand outcomes.\n",
    "- Visualize key results using graphs and plots.\n",
    "- Explore potential **strategic insights** based on survival analysis.\n",
    "\n",
    "### Methodology overview\n",
    "- Define a set of players, each with a skill rating.\n",
    "- Determine outcome of each encounter using **probabilistic rules**.\n",
    "- Repeat the process until only one player remains.\n",
    "- Run thousands of simulations to gather statistics.\n",
    "- Analyze results using probability theory and visualization.\n",
    "\n",
    "---\n",
    "\n",
    "### Tools and Concepts\n",
    "- Probability and Conditional Probability\n",
    "- Random Variables and Expected Value\n",
    "- Monte Carlo Simulation\n",
    "- Markov Chains (absorbing state modeling)\n",
    "- Statistical Visualization\n",
    "\n",
    "---"
   ]
  },
  {
   "cell_type": "markdown",
   "id": "c6594253",
   "metadata": {},
   "source": [
    "## General rules of the simulator and maths"
   ]
  },
  {
   "cell_type": "markdown",
   "id": "55bef6dd",
   "metadata": {},
   "source": []
  }
 ],
 "metadata": {
  "language_info": {
   "name": "python"
  }
 },
 "nbformat": 4,
 "nbformat_minor": 5
}
